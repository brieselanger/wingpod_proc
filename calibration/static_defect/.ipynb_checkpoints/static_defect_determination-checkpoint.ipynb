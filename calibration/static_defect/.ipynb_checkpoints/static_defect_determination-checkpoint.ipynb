{
 "cells": [
  {
   "cell_type": "markdown",
   "metadata": {},
   "source": [
    "# STEP 1: Determination of speed dependent static-pressure error and correction\n",
    "### coefficient(s): 'ps_q_corr' ($C_{s1,q}, C_{s2,q}$)\n",
    "### Reference: Master thesis, Kap. 2.2.2, 2.2.3 (basics of air speed calculation) and 4.3 (actual correction functions and coefficients)\n",
    "#### --> scroll down for speed dependent dynamic-pressure error (coefficient 'q_q_corr' ($C_{q,q}$))  <--\n",
    "\n",
    "\n",
    "\n",
    "The flow around the aricraft gets altered by the aircraft itself, the wingpod and 5HP, which leads to errors in static-pressure measurements due to compression, deceleration and aceleration of the flow, which is known as 'position error'. The error predominantly depends on the flow velocity ( == aircraft speed) and affects the static- as well as the dynamic-pressure port. There is also a small flwo angle dependent error, which has not been addressed yet. Since the airspeed is calculated by the difference pressure between the dynamic and static pressure port, the dynamic pressure measurement is affected by the static pressure error, too. Therefore, the static-pressure error has to be modelled first and subtracted from the static- as well as dynamic-pressure measurements by applying a correction function. The goal of the calibration routines presented is to quantify the correction coefficients for the correction function.\n",
    "\n",
    "For this purpose, speed-variation maneuvers have been flown to alternate the dynamic pressure and provoke static-pressure errors. The following routines where designed to process the data of theses maneuvers and retrieve their coefficients.\n",
    "\n",
    "#### Instructions:\n",
    "1. create a new and unique configuration file `conf_static_defect_determination_[0-9].py` in the subdir `calibration/static_defect/configurations/` which contains the time stamp of your latest conducted accel-decel maneuver\n",
    "2. insert the respective raw data files into the `in/` directory\n",
    "3. copy the a-priori-const file (`calibration/a_priori_const.py`) into the main `wingpod_proc/` directory and rename it to `const.py` after you backed up the old `const.py`\n",
    "4. enter the name of the configuration file of the accel-decel maneuver in the following cell (variable `conf_file`)"
   ]
  },
  {
   "cell_type": "code",
   "execution_count": 1,
   "metadata": {},
   "outputs": [],
   "source": [
    "#name of configuration file\n",
    "conf_file = 'conf_static_defect_determination_1.py'"
   ]
  },
  {
   "cell_type": "code",
   "execution_count": 2,
   "metadata": {
    "scrolled": true
   },
   "outputs": [
    {
     "name": "stderr",
     "output_type": "stream",
     "text": [
      "/home/axel/anaconda3/lib/python3.6/site-packages/statsmodels/compat/pandas.py:56: FutureWarning: The pandas.core.datetools module is deprecated and will be removed in a future version. Please use the pandas.tseries module instead.\n",
      "  from pandas.core import datetools\n"
     ]
    },
    {
     "name": "stdout",
     "output_type": "stream",
     "text": [
      "Input directory: /home/axel/Dropbox/Dokumente/studium/WeWi/5Loch/python/wingpod_proc/in/\n",
      "Loading CPT6100 data...\n",
      "Loading CPT6100 data...\n",
      "Loading CPT6100 data...\n",
      "Loading CPT6100 data...\n",
      "Loading HMT310 data...\n",
      "Loading USB1608 data...\n",
      "Loading Novatel data...\n",
      "Preprocessing data...\n",
      "Time selected between: '2018-06-07 18:12:33' and '2018-06-07 18:20:20' UTC\n",
      "Done.\n",
      "{'polynomial': [-4.138679735910993e-05, 0.12657816922609383, -61.66605266718315], 'determination': 0.9563813428583627}\n",
      "\n",
      ">>>> COEFFICIENT SET (ps_q_err) : C2=-4.139E-05, C1=1.266E-01 <<<<\n",
      "\n",
      "Error of estimators within 95% confidence interval: \n",
      "[4.74942811e-06 7.91215696e-03 2.89812279e+00]\n"
     ]
    },
    {
     "data": {
      "image/png": "[encoded data removed]",
      "text/plain": [
       "<matplotlib.figure.Figure at 0x7f91da72d5f8>"
      ]
     },
     "metadata": {},
     "output_type": "display_data"
    }
   ],
   "source": [
    "#main routine\n",
    "\n",
    "import statsmodels.api as sm\n",
    "import matplotlib.pyplot as plt\n",
    "import os\n",
    "from scipy import stats\n",
    "plt.close()\n",
    "\n",
    "#needed functions\n",
    "\n",
    "#barometric formula\n",
    "def baro_form(p0,z,Tm,g=9.807,R=287.1):\n",
    "    \"\"\"\n",
    "    Barometric formular\n",
    "    Input:\n",
    "        p0 - reference pressure in Pa\n",
    "        z - relative height difference between z and z0 in m\n",
    "        Tm - mean temperature between z and z0 in K\n",
    "        g - gravitational acceleration\n",
    "        R - gas constant for dry air\n",
    "        \n",
    "    Output:\n",
    "        p - pressure at height z in Pa\n",
    "    \"\"\"\n",
    "    \n",
    "    p=p0*np.exp((-(g*z)/(R*Tm)))\n",
    "    \n",
    "    return(p)\n",
    "\n",
    "def lin_fit(x,y):\n",
    "    \"\"\"\n",
    "    Linear regression using least-squares method with error estimation\n",
    "    Input:\n",
    "        x - array, containing x values\n",
    "        y - array, containing y values\n",
    "    Output:\n",
    "        slope - float, slope\n",
    "        interc - float, intercept\n",
    "        slope_err - float, slope error\n",
    "        interc_err - float, intercept error\n",
    "    \"\"\"\n",
    "    \n",
    "    x_mean = np.mean(x)\n",
    "    y_mean = np.mean(y)\n",
    "    \n",
    "    slope = np.sum((x-x_mean)*(y-y_mean))/(np.sum((x-x_mean)**2))  \n",
    "    interc = y_mean-slope*x_mean\n",
    "    \n",
    "    sse = np.sum((y-(x*slope+interc))**2)\n",
    "    sigma_e = np.sqrt(sse/(len(x)-2))\n",
    "    slope_err = sigma_e*np.sqrt(1/np.sum((x-x_mean)**2))\n",
    "    interc_err = slope_err*np.sqrt(np.sum(x**2)/2)\n",
    "    \n",
    "    return(slope,interc,slope_err,interc_err)\n",
    "\n",
    "def polyfit(x, y, degree):\n",
    "    \"\"\"\n",
    "    Polyfit function using numpy polyfit with an additional\n",
    "        return of error determinants\n",
    "    Input:\n",
    "        x - array, x-values\n",
    "        y - array, y-values\n",
    "        degree - int, degree of fit\n",
    "    Output:\n",
    "        results - dict, containing coefficients and error matrice\n",
    "    \"\"\"\n",
    "    results = {}\n",
    "    coeffs = np.polyfit(x, y, degree)\n",
    "     # Polynomial Coefficients\n",
    "    results['polynomial'] = coeffs.tolist()\n",
    "    # r-squared\n",
    "    p = np.poly1d(coeffs)\n",
    "    # fit values, and mean\n",
    "    yhat = p(x)                         # or [p(z) for z in x]\n",
    "    ybar = np.sum(y)/len(y)          # or sum(y)/len(y)\n",
    "    ssreg = np.sum((yhat-ybar)**2)   # or sum([ (yihat - ybar)**2 for yihat in yhat])\n",
    "    sstot = np.sum((y - ybar)**2)    # or sum([ (yi - ybar)**2 for yi in y])\n",
    "    results['determination'] = ssreg / sstot\n",
    "    \n",
    "    return(results)\n",
    "\n",
    "#change directories, copy configuration\n",
    "par_dir = '/../..' #relative parent directory containing the wingpod_proc software (main_dir)\n",
    "cwd = os.getcwd() #get current working directory (path of this Jupyter notebook)\n",
    "main_dir = cwd + par_dir #set main dir\n",
    "\n",
    "os.system('mv ' + main_dir + '/conf.py ' + main_dir + '/conf.py.bak') #backup old configuration file\n",
    "os.system('cp ' + cwd + '/configurations/' + conf_file + ' ' + main_dir + '/conf.py') #copy configuration file\n",
    "os.chdir(main_dir) #change into main_dir\n",
    "\n",
    "#actual processing of flight\n",
    "#execute to get data\n",
    "exec(open('main.py').read())\n",
    "\n",
    "#calculate mean temperature\n",
    "t_m = np.mean(data['T'])\n",
    "\n",
    "#reference altitude (z0)\n",
    "z0 = np.max(data['height'])#reference pressure at reference altitude\n",
    "#reference pressure (p0) at z0\n",
    "p0 = np.mean(data['p_alt'][data['height'] == z0])\n",
    "\n",
    "#offset (z) from z0\n",
    "z = data['height']-z0 #z-z_ref\n",
    "\n",
    "#pressure offset (p) from z\n",
    "p = baro_form(p0,z,t_m,g=9.807,R=287.1)\n",
    "data['p_si_norm'] = data['p_alt']-p\n",
    "x = data['p_spd']\n",
    "y = data['p_si_norm']\n",
    "plt.scatter(x[::500],y[::500],s=2)\n",
    "\n",
    "coeff = polyfit(data['p_spd'][::100],data['p_si_norm'][::100],2)\n",
    "coeff2 = np.polyfit(data['p_spd'][::100],data['p_si_norm'][::100],2,cov=True)\n",
    "p = coeff['polynomial']\n",
    "print(coeff)\n",
    "print('\\n>>>> COEFFICIENT SET (ps_q_err) : C2=%.3E, C1=%.3E <<<<\\n' % (p[0], p[1]))\n",
    "print('Error of estimators within 95% confidence interval: ')\n",
    "print(np.sqrt(np.diag(coeff2[1]))*1.96)\n",
    "xp = np.linspace(0,15*100,100)\n",
    "yp = p[0]*xp**2+p[1]*xp+p[2]\n",
    "plt.plot(xp,yp,linewidth=2)\n",
    "plt.text(200,p[2]+10,'$C_{s2,q}=%.3E$, $C_{s1,q}=%.3E$' % (p[0], p[1]))\n",
    "plt.text(200,p[2]+5, '$R^{2}=$' + str(round(coeff['determination'],3)))\n",
    "\n",
    "plt.legend(framealpha=0.8)\n",
    "plt.ylabel(r'$p_{s,norm}$ in Pa')\n",
    "plt.xlabel(r'$q_{i}$ in Pa')\n",
    "\n",
    "plt.show()\n",
    "#apply corrected static pressure values\n",
    "#data_slic['p_alt_sq'] = data_slic['p_alt']-scale*data_slic['p_spd']-intercept\n",
    "plt.savefig('static_defect_reg.pdf')"
   ]
  },
  {
   "cell_type": "markdown",
   "metadata": {},
   "source": [
    "#### Further Instructions:\n",
    "1. insert the date and time of the flight and the retrieved `ps_q_corr` coefficient set into the `calibration/coeffs.ods` file\n",
    "2. insert the best suiting (or mean) coefficients into the `const.py` in the main directory before you proceed with the next calibration step\n",
    "\n",
    "### Done!"
   ]
  },
  {
   "cell_type": "markdown",
   "metadata": {},
   "source": [
    "# STEP 2: Determination of speed dependent dynamic-pressure error\n",
    "\n",
    "### coefficient: 'q_q_corr' ($C_{q,q}$)\n",
    "### Reference: Master thesis, Kap. 2.2.2, 2.2.3 (basics of air speed calculation) and 4.3 (actual correction functions and coefficients)\n",
    "\n",
    "While the static-pressure error has been removed from both the static- and dynamic-pressure ports, there is still a residual error on the dynamic pressure port only. To compensate this error, a correction function is applied to the dynamic pressure measurements. The linear correction coefficient is gained by a couple of reverse-heading maneuvers which are also used in the $\\beta_0$-calibration process. **Therefore, the same configuration files (**`conf_beta_angle_[0-9]-[0|1].py`**) in the ** `calibration/flow angle/configurations/`** directory were used.** The configuration files, which each end with a 0 and 1, represent a pair of a chronologically flown set, which was flown first in one direction (0), then in the other (1).\n",
    "\n",
    "#### Instructions:\n",
    "1. reload the Python Kernel to purge all variables and to reset the working directory\n",
    "2. create a new and unique set of configuration files `conf_beta_angle_[0-9]_0.py` and `conf_beta_angle_[0-9]_1.py` in the subdir `calibration/flow_angle/configurations/` for your latest set of reverse-heading maneuvers\n",
    "3. insert the respective raw data file into the `in/` directory\n",
    "4. enter the name of the configuration file you have just created in the following cell (variable `conf_file`) for the first sequence (0) of the flown reverse-heading pair\n",
    "5. set the `seq` variable to the sequence number (0)\n",
    "6. run the code\n",
    "7. repeat step 4 to 6 by setting the sequence no. to 1 (e.g. change 'conf_beta_angle_8_0.py' to 'conf_beta_angle_8_1.py')"
   ]
  },
  {
   "cell_type": "code",
   "execution_count": 3,
   "metadata": {},
   "outputs": [],
   "source": [
    "conf_file = 'conf_beta_angle_0_1.py'\n",
    "seq = 1"
   ]
  },
  {
   "cell_type": "code",
   "execution_count": 4,
   "metadata": {},
   "outputs": [
    {
     "name": "stdout",
     "output_type": "stream",
     "text": [
      "Input directory: /home/axel/Dropbox/Dokumente/studium/WeWi/5Loch/python/wingpod_proc/in/\n",
      "Loading CPT6100 data...\n",
      "Loading CPT6100 data...\n",
      "Loading CPT6100 data...\n",
      "Loading CPT6100 data...\n",
      "Loading HMT310 data...\n",
      "Loading USB1608 data...\n",
      "Loading Novatel data...\n",
      "Preprocessing data...\n",
      "Time selected between: '2017-08-14 11:03:00' and '2017-08-14 11:04:00' UTC\n",
      "Done.\n",
      "Mean wind spd: 5.20876906603489  0.47776803960001113\n",
      "Mean flight direction: 205.03816617253926\n",
      "mean height: 2336.444663600774\n"
     ]
    },
    {
     "data": {
      "image/png": "[encoded data removed]",
      "text/plain": [
       "<matplotlib.figure.Figure at 0x7fc82fc83b00>"
      ]
     },
     "metadata": {},
     "output_type": "display_data"
    },
    {
     "name": "stdout",
     "output_type": "stream",
     "text": [
      "\n",
      ">>>> COEFFICIENT (q_q_corr): C1=-2.424E-02 <<<<\n",
      "\n"
     ]
    }
   ],
   "source": [
    "import numpy as np\n",
    "import os\n",
    "import matplotlib.pyplot as plt\n",
    "get_ipython().magic('matplotlib inline')\n",
    "\n",
    "#guessed values\n",
    "if seq == 0:\n",
    "    C_qq_range = [-0.1,0] #guess range\n",
    "    fineness = 100 #precision of the resulting coefficient\n",
    "    x_m = np.linspace(C_qq_range[0],C_qq_range[1],fineness)\n",
    "\n",
    "    #change directories, copy configuration\n",
    "    par_dir = '/../..' #relative parent directory containing the wingpod_proc software (main_dir)\n",
    "    cwd = os.getcwd() #get current working directory (path of this Jupyter notebook)\n",
    "    main_dir = cwd + par_dir #set main dir\n",
    "    os.chdir(main_dir) #change into main_dir\n",
    "    \n",
    "    out = np.zeros((fineness,2)) #allocate empty output matrix\n",
    "    \n",
    "os.system('cp ' + cwd + '/../flow_angle/configurations/' + conf_file + ' ' + main_dir + '/conf.py') #copy configuration file\n",
    "\n",
    "#actual processing of flight\n",
    "#execute to get data\n",
    "exec(open('main.py').read())\n",
    "\n",
    "for k,var in enumerate(x_m):\n",
    "    C_qq_new = var\n",
    "    data['q_q_err'] = pp.dyn_press_q_error(data['p_spd_corr'],var)\n",
    "    data['p_spd_corr_new'] = data['p_spd_corr'] + data['q_q_err']\n",
    "            \n",
    "    data.update(wc.wind_out(data['p_alt'], data['p_alt_corr'], data['p_spd'],\n",
    "                          data['p_spd_corr_new'], data['p_alp'], data['p_bet'],\n",
    "                          data['T'], data['theta'], data['theta_dot'],\n",
    "                          data['psi'], data['psi_dot'], data['phi'],\n",
    "                          data['u_p'], data['v_p'], data['w_p'],\n",
    "                          alp0, bet0, C_alp, C_bet, L, r, simple=False))\n",
    "    out[k,seq] = np.mean(data['wspd'])\n",
    "    if k == int(fineness/2):\n",
    "        print('Mean wind spd: ' + str(np.mean(data['wspd'])) + '  ' + str(np.std(data['wspd'])))\n",
    "        print('Mean flight direction: ' + str(np.mean(data['psi'])/np.pi*180))\n",
    "        print('mean height: ' + str(np.mean(data['height'])))\n",
    "\n",
    "if seq == 1:  \n",
    "    diff = abs(out[:,1]-out[:,0])\n",
    "    plt.plot(diff)\n",
    "    plt.show()\n",
    "    out_C_qq = x_m[np.where(diff == np.min(diff))]\n",
    "    #print('Found best C_qq value ' + str(out_C_qq[i]) + '.')\n",
    "    #print('Minimum Diff in wspd: ' + str(np.min(diff)))\n",
    "    print('\\n>>>> COEFFICIENT (q_q_corr): C1=%.3E <<<<\\n' % out_C_qq)"
   ]
  },
  {
   "cell_type": "markdown",
   "metadata": {},
   "source": [
    "#### Further instructions:\n",
    "1. insert the date and time of the flight and the retrieved `q_q_corr` coefficient into the `calibration/coeffs.ods` file and copy the mean value into the `const.py` for the next calibration process\n",
    "\n",
    "#### Done!"
   ]
  }
 ],
 "metadata": {
  "kernelspec": {
   "display_name": "Python 3",
   "language": "python",
   "name": "python3"
  },
  "language_info": {
   "codemirror_mode": {
    "name": "ipython",
    "version": 3
   },
   "file_extension": ".py",
   "mimetype": "text/x-python",
   "name": "python",
   "nbconvert_exporter": "python",
   "pygments_lexer": "ipython3",
   "version": "3.6.1"
  }
 },
 "nbformat": 4,
 "nbformat_minor": 2
}
